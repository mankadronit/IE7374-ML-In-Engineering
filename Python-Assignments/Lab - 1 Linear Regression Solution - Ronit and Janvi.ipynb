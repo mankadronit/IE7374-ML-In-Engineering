{
 "cells": [
  {
   "cell_type": "markdown",
   "id": "101e799a",
   "metadata": {},
   "source": [
    "# Linear Regression with Regularization"
   ]
  },
  {
   "cell_type": "markdown",
   "id": "6e8e89ab",
   "metadata": {},
   "source": [
    "First, import the required libraries"
   ]
  },
  {
   "cell_type": "code",
   "execution_count": 1,
   "id": "4ab5dbf5",
   "metadata": {},
   "outputs": [],
   "source": [
    "import numpy as np\n",
    "import pandas as pd\n",
    "from tqdm import tqdm\n",
    "\n",
    "import math\n",
    "from sklearn.model_selection import train_test_split\n",
    "import matplotlib.pyplot as plt\n",
    "\n",
    "plt.ion() # Make plots interactive"
   ]
  },
  {
   "cell_type": "code",
   "execution_count": 2,
   "id": "aad0931b",
   "metadata": {},
   "outputs": [],
   "source": [
    "def dataset_reader(filename):\n",
    "    \"\"\"\n",
    "    Params: Name of the file to load\n",
    "    Returns: A numpy array of with all entries converted to float datatype\n",
    "    \"\"\"\n",
    "    return np.array(pd.read_csv(filename, header = None),dtype = np.float)"
   ]
  },
  {
   "cell_type": "code",
   "execution_count": 12,
   "id": "7ef66307",
   "metadata": {},
   "outputs": [],
   "source": [
    "class LinearRegression:\n",
    "    \"\"\"\n",
    "    A Linear Regression Model\n",
    "    \"\"\"\n",
    "    def __init__(self, X, y, learningRate, maxIterations, tolerance, \n",
    "                 gd = False, gd_type = \"batch\", regularization = False, lmbda = 0):\n",
    "        \"\"\"\n",
    "        Initalizer for the class\n",
    "        \n",
    "        @Params:\n",
    "            X, y: Training data \n",
    "            learningRate (Float): The learning rate for the gradient descent algorithm\n",
    "            maxIterations (Int): Max number of epochs\n",
    "            tolerance (Float): Allowed tolerance for difference in cost function value\n",
    "            gd (Boolean): Flag to set gradient descent to True/False\n",
    "            gd_type (String): If set to \"batch\", uses batch gradient descent, if set to \"sgd\", \n",
    "                              ses the stochastic gradient descent\n",
    "            regularization (Boolean): Flag to use regularization\n",
    "            lmbda (Float): Value of Lambda used for the regularization\n",
    "        \n",
    "        \"\"\"\n",
    "        np.random.RandomState(10)\n",
    "        self.X = X\n",
    "        self.y = y\n",
    "        self.learningRate = learningRate\n",
    "        self.maxIterations = maxIterations\n",
    "        self.tolerance = tolerance\n",
    "        self.gd = gd\n",
    "        self.gd_type = gd_type\n",
    "        self.regularization = regularization\n",
    "        self.lmbda = lmbda\n",
    "        \n",
    "    def splitToTrainTest(self):\n",
    "        \"\"\"\n",
    "        Splits the data into train and test sets and returns all four\n",
    "        \"\"\"\n",
    "        X_train, X_test, y_train, y_test = train_test_split(self.X, self.y, test_size=0.3, random_state=0)\n",
    "        return X_train, X_test, y_train, y_test \n",
    "    \n",
    "    def add_x0(self, X):\n",
    "        \"\"\"\n",
    "        Adds bias column to the data\n",
    "        \"\"\"\n",
    "        return np.column_stack([np.ones([X.shape[0], 1]) , X])\n",
    "    \n",
    "    def normalize(self, X):\n",
    "        \"\"\"\n",
    "        Normalizes the data and returns the data, mean and std\n",
    "        \n",
    "        \"\"\"\n",
    "        mean = np.mean(X, 0)\n",
    "        std = np.std(X, 0)\n",
    "        \n",
    "        X_norm = (X - mean)/std\n",
    "        X_norm = self.add_x0(X_norm)\n",
    "        \n",
    "        return X_norm, mean, std\n",
    "    \n",
    "    def normalizeTestData(self, X, train_mean, train_std):\n",
    "        \"\"\"\n",
    "        Normalizes test data using the training data mean and sd\n",
    "        \n",
    "        \"\"\"\n",
    "        X_norm = (X - train_mean) / train_std\n",
    "        X_norm = self.add_x0(X_norm)\n",
    "        \n",
    "        return X_norm\n",
    "    \n",
    "    \n",
    "    def rank(self, X, eps = 1e-12):\n",
    "        \"\"\"\n",
    "        Calculates and returns the rank of a matrix\n",
    "        \"\"\"\n",
    "        u, s, vh = np.linalg.svd(X)\n",
    "        return len([x for x in s if abs(x) > eps])\n",
    "        \n",
    "    \n",
    "    def checkMatrix(self, X):\n",
    "        \"\"\"\n",
    "        Checks if a matrix is full rank or not\n",
    "        \"\"\"\n",
    "        x_rank = self.rank(X)\n",
    "        \n",
    "        if x_rank == min(X.shape[0], X.shape[1]):\n",
    "            print(\"Matrix is full rank\")\n",
    "            self.fullRank = True\n",
    "        else:\n",
    "            print(\"Matrix is not full rank\")\n",
    "            self.fullRank = False\n",
    "        \n",
    "    def checkInvertibility(self, X):\n",
    "        \"\"\"\n",
    "        Checks whether a matrix is invertible\n",
    "        \"\"\"\n",
    "        if X.shape[0] < X.shape[1]:\n",
    "            self.lowRank = True\n",
    "            print(\"data is Low Rank\")\n",
    "        else: \n",
    "            self.lowRank = False\n",
    "            print(\"data is not Low Rank\")\n",
    "\n",
    "            \n",
    "    def closedFormSolution(self, X, y):\n",
    "        \"\"\"\n",
    "        Finds a closed form solution for theta (w) using the Normal equation\n",
    "        \"\"\"\n",
    "        if self.regularization:\n",
    "            w = np.linalg.inv((X.T.dot(X)) + self.lmbda*np.identity(X.shape[1])).dot(X.T).dot(y)\n",
    "        else:\n",
    "            w = np.linalg.inv((X.T.dot(X))).dot(X.T).dot(y)\n",
    "        return w\n",
    "    \n",
    "    def gradientDescent(self, X, y):\n",
    "        \"\"\"\n",
    "        Performs optimization using batch gradient descent\n",
    "        \"\"\"\n",
    "        self.error_sequence = []\n",
    "        \n",
    "        last = float('inf')\n",
    "        \n",
    "        for i in tqdm(range(self.maxIterations)):            \n",
    "            if self.regularization:\n",
    "                self.w = self.w - self.learningRate * self.costDerivatives(X, y) - self.lmbda * self.w\n",
    "            else:\n",
    "                self.w = self.w - self.learningRate * self.costDerivatives(X, y) \n",
    "            \n",
    "            cur = self.costFunction(X, y)\n",
    "            \n",
    "            # Since the tolerance values are the difference in RMSEs, divide the SSE by N and take\n",
    "            # a square root\n",
    "            rmse_diff = (last/self.X.shape[0])**(1/2) - (cur/self.X.shape[0])**(1/2)\n",
    "            last = cur\n",
    "            \n",
    "            self.error_sequence.append(cur)\n",
    "            \n",
    "            # Plot every 50 epochs\n",
    "            if i in [k for k in range(1, self.maxIterations + 1, 50)]:\n",
    "                self.plot()\n",
    "            \n",
    "            plt.show()\n",
    "            if rmse_diff < self.tolerance:\n",
    "                print(\"Model Stopped\")\n",
    "                break\n",
    "                \n",
    "                \n",
    "    def predict(self, X):\n",
    "        \"\"\"\n",
    "        Predicts labels for the given input data\n",
    "        \"\"\"\n",
    "        return X.dot(self.w)\n",
    "        \n",
    "    def sse(self, X, y): \n",
    "        \"\"\"\n",
    "        Calculates Sum of Squares error\n",
    "        \"\"\"\n",
    "        y_hat = self.predict(X)\n",
    "        return ((y_hat - y) ** 2).sum()\n",
    "        \n",
    "        \n",
    "    def costFunction(self, X, y):\n",
    "        \"\"\"\n",
    "        Calculates the cost given X and y\n",
    "        \"\"\"\n",
    "        if self.regularization:\n",
    "            return (1/2)*(self.sse(X, y) + self.lmbda * (self.w.T.dot(self.w)))\n",
    "        else:\n",
    "            return self.sse(X, y) / 2\n",
    "     \n",
    "    \n",
    "    def costDerivatives(self, X, y):\n",
    "        \"\"\"\n",
    "        Returns derivative of the cost function for Batch GD\n",
    "        \n",
    "        \"\"\"\n",
    "        y_hat = self.predict(X)        \n",
    "        return (y_hat - y).dot(X)\n",
    "    \n",
    "    def costDerivativesSGD(self, X, y):\n",
    "        \"\"\"\n",
    "        Returns derivative of the cost function for Stochastic GD\n",
    "        \"\"\"\n",
    "        y_hat = self.predictSGD(X)\n",
    "        return (y_hat - y) * X\n",
    "    \n",
    "    def predictSGD(self, X):\n",
    "        \"\"\"\n",
    "        Predicts labels given X for Stochastic GD\n",
    "        \n",
    "        \"\"\"\n",
    "        return np.float64(np.array(X).dot(self.w))\n",
    "    \n",
    "    \n",
    "    def stochasticGradientDescent(self, X, y):\n",
    "        \"\"\"\n",
    "        Performs optimization using Stochastic GD\n",
    "        \"\"\"\n",
    "        self.error_sequence = []\n",
    "\n",
    "        last = float('inf')\n",
    "\n",
    "        for j in tqdm(range(self.maxIterations)):\n",
    "            epoch_cost = 0\n",
    "            row_num = \n",
    "            for i, row in enumerate(X):\n",
    "                if self.regularization:\n",
    "                    self.w = self.w - self.learningRate * self.costDerivativesSGD(row, y[i]) - self.lmbda * self.w\n",
    "                else:\n",
    "                    self.w = self.w - self.learningRate * self.costDerivativesSGD(row, y[i]) \n",
    "\n",
    "                cur = self.costFunction(row, y[i])\n",
    "                last = cur\n",
    "                epoch_cost += cur\n",
    "\n",
    "                \n",
    "            # Plot every 50 epochs\n",
    "            if j in [k for k in range(1, self.maxIterations+1, 50)]:\n",
    "                self.plot()\n",
    "                \n",
    "            if j > 1:\n",
    "                rmse_diff = (self.error_sequence[-1]/X.shape[0])**(1/2) - (epoch_cost/X.shape[0])**(1/2) \n",
    "                if rmse_diff < self.tolerance:\n",
    "                    print(\"Model Stopped\")\n",
    "                    break\n",
    "                \n",
    "            self.error_sequence.append(epoch_cost)\n",
    "\n",
    "                \n",
    "\n",
    "    def runModel(self):\n",
    "        \"\"\"\n",
    "        Runs the model using the given configurations\n",
    "        \"\"\"\n",
    "        self.X_train, self.X_test, self.y_train, self.y_test = self.splitToTrainTest()\n",
    "        \n",
    "        self.X_train, self.mean, self.std = self.normalize(self.X_train)\n",
    "        self.X_test = self.normalizeTestData(self.X_test, self.mean, self.std)\n",
    "        \n",
    "        self.checkMatrix(self.X_train)\n",
    "        self.checkInvertibility(self.X_train)\n",
    "        \n",
    "        if self.fullRank and not self.lowRank and self.X_train.shape[0] < 50000 and not self.gd: \n",
    "            \n",
    "            print(\"Solving using closed form solution\")\n",
    "            print(\"Using L2-Regularization, Lambda: \", self.lmbda) if self.regularization else \"\"\n",
    "            self.w = self.closedFormSolution(self.X_train, self.y_train)\n",
    "        \n",
    "        else:\n",
    "            \n",
    "            self.w = np.ones(self.X_train.shape[1], dtype = np.float64) * 0\n",
    "            \n",
    "            if self.gd_type == \"batch\":\n",
    "                print(\"Solving using gradient descent\")\n",
    "                self.gradientDescent(self.X_train, self.y_train)\n",
    "            elif self.gd_type == \"sgd\":\n",
    "                print(\"Solving using Stochastic Gradient Descent\")\n",
    "                self.stochasticGradientDescent(self.X_train, self.y_train)\n",
    "                \n",
    "            print(self.w)\n",
    "            self.plot('Training Complete')\n",
    "            \n",
    "            \n",
    "    def plot(self, title = \"Model Training...\"):\n",
    "        \"\"\"\n",
    "        Plots Cost vs Epoch \n",
    "        \"\"\"\n",
    "        # setting labels\n",
    "        plt.xlabel(\"Epochs\")\n",
    "        plt.ylabel(\"Training Cost\")\n",
    "        plt.title(title)\n",
    "        \n",
    "        plt.plot(self.error_sequence)\n",
    "        plt.pause(0.5)\n",
    "            \n",
    "    def evaluate_model(self):\n",
    "        \"\"\"\n",
    "        Evaluates the model on test set\n",
    "        \"\"\"\n",
    "        sse = self.sse(self.X_test, self.y_test)\n",
    "        rmse = (sse/self.X_test.shape[0])**(1/2)\n",
    "        \n",
    "        print(\"Model RMSE Score on Test Set is: \", rmse)"
   ]
  },
  {
   "cell_type": "markdown",
   "id": "275baef0",
   "metadata": {},
   "source": [
    "#### Now that we have defined our model, let us see it's performance on the following three datasets\n",
    "\n",
    "##### 1. Housing Dataset"
   ]
  },
  {
   "cell_type": "code",
   "execution_count": 13,
   "id": "65db9cbc",
   "metadata": {},
   "outputs": [],
   "source": [
    "# Import the housing dataset\n",
    "df = pd.read_csv(\"./datasets/housing.csv\")"
   ]
  },
  {
   "cell_type": "code",
   "execution_count": 14,
   "id": "1d63e095",
   "metadata": {},
   "outputs": [
    {
     "data": {
      "text/html": [
       "<div>\n",
       "<style scoped>\n",
       "    .dataframe tbody tr th:only-of-type {\n",
       "        vertical-align: middle;\n",
       "    }\n",
       "\n",
       "    .dataframe tbody tr th {\n",
       "        vertical-align: top;\n",
       "    }\n",
       "\n",
       "    .dataframe thead th {\n",
       "        text-align: right;\n",
       "    }\n",
       "</style>\n",
       "<table border=\"1\" class=\"dataframe\">\n",
       "  <thead>\n",
       "    <tr style=\"text-align: right;\">\n",
       "      <th></th>\n",
       "      <th>0.00632</th>\n",
       "      <th>18</th>\n",
       "      <th>2.31</th>\n",
       "      <th>0</th>\n",
       "      <th>0.538</th>\n",
       "      <th>6.575</th>\n",
       "      <th>65.2</th>\n",
       "      <th>4.09</th>\n",
       "      <th>1</th>\n",
       "      <th>296</th>\n",
       "      <th>15.3</th>\n",
       "      <th>396.9</th>\n",
       "      <th>4.98</th>\n",
       "      <th>24</th>\n",
       "    </tr>\n",
       "  </thead>\n",
       "  <tbody>\n",
       "    <tr>\n",
       "      <th>0</th>\n",
       "      <td>0.02731</td>\n",
       "      <td>0.0</td>\n",
       "      <td>7.07</td>\n",
       "      <td>0</td>\n",
       "      <td>0.469</td>\n",
       "      <td>6.421</td>\n",
       "      <td>78.9</td>\n",
       "      <td>4.9671</td>\n",
       "      <td>2</td>\n",
       "      <td>242</td>\n",
       "      <td>17.8</td>\n",
       "      <td>396.90</td>\n",
       "      <td>9.14</td>\n",
       "      <td>21.6</td>\n",
       "    </tr>\n",
       "    <tr>\n",
       "      <th>1</th>\n",
       "      <td>0.02729</td>\n",
       "      <td>0.0</td>\n",
       "      <td>7.07</td>\n",
       "      <td>0</td>\n",
       "      <td>0.469</td>\n",
       "      <td>7.185</td>\n",
       "      <td>61.1</td>\n",
       "      <td>4.9671</td>\n",
       "      <td>2</td>\n",
       "      <td>242</td>\n",
       "      <td>17.8</td>\n",
       "      <td>392.83</td>\n",
       "      <td>4.03</td>\n",
       "      <td>34.7</td>\n",
       "    </tr>\n",
       "    <tr>\n",
       "      <th>2</th>\n",
       "      <td>0.03237</td>\n",
       "      <td>0.0</td>\n",
       "      <td>2.18</td>\n",
       "      <td>0</td>\n",
       "      <td>0.458</td>\n",
       "      <td>6.998</td>\n",
       "      <td>45.8</td>\n",
       "      <td>6.0622</td>\n",
       "      <td>3</td>\n",
       "      <td>222</td>\n",
       "      <td>18.7</td>\n",
       "      <td>394.63</td>\n",
       "      <td>2.94</td>\n",
       "      <td>33.4</td>\n",
       "    </tr>\n",
       "    <tr>\n",
       "      <th>3</th>\n",
       "      <td>0.06905</td>\n",
       "      <td>0.0</td>\n",
       "      <td>2.18</td>\n",
       "      <td>0</td>\n",
       "      <td>0.458</td>\n",
       "      <td>7.147</td>\n",
       "      <td>54.2</td>\n",
       "      <td>6.0622</td>\n",
       "      <td>3</td>\n",
       "      <td>222</td>\n",
       "      <td>18.7</td>\n",
       "      <td>396.90</td>\n",
       "      <td>5.33</td>\n",
       "      <td>36.2</td>\n",
       "    </tr>\n",
       "    <tr>\n",
       "      <th>4</th>\n",
       "      <td>0.02985</td>\n",
       "      <td>0.0</td>\n",
       "      <td>2.18</td>\n",
       "      <td>0</td>\n",
       "      <td>0.458</td>\n",
       "      <td>6.430</td>\n",
       "      <td>58.7</td>\n",
       "      <td>6.0622</td>\n",
       "      <td>3</td>\n",
       "      <td>222</td>\n",
       "      <td>18.7</td>\n",
       "      <td>394.12</td>\n",
       "      <td>5.21</td>\n",
       "      <td>28.7</td>\n",
       "    </tr>\n",
       "  </tbody>\n",
       "</table>\n",
       "</div>"
      ],
      "text/plain": [
       "   0.00632   18  2.31  0  0.538  6.575  65.2    4.09  1  296  15.3   396.9  \\\n",
       "0  0.02731  0.0  7.07  0  0.469  6.421  78.9  4.9671  2  242  17.8  396.90   \n",
       "1  0.02729  0.0  7.07  0  0.469  7.185  61.1  4.9671  2  242  17.8  392.83   \n",
       "2  0.03237  0.0  2.18  0  0.458  6.998  45.8  6.0622  3  222  18.7  394.63   \n",
       "3  0.06905  0.0  2.18  0  0.458  7.147  54.2  6.0622  3  222  18.7  396.90   \n",
       "4  0.02985  0.0  2.18  0  0.458  6.430  58.7  6.0622  3  222  18.7  394.12   \n",
       "\n",
       "   4.98    24  \n",
       "0  9.14  21.6  \n",
       "1  4.03  34.7  \n",
       "2  2.94  33.4  \n",
       "3  5.33  36.2  \n",
       "4  5.21  28.7  "
      ]
     },
     "execution_count": 14,
     "metadata": {},
     "output_type": "execute_result"
    }
   ],
   "source": [
    "df.head()"
   ]
  },
  {
   "cell_type": "markdown",
   "id": "6f1810ee",
   "metadata": {},
   "source": [
    "##### 1.1 Closed Form Solution"
   ]
  },
  {
   "cell_type": "code",
   "execution_count": 15,
   "id": "e40a8654",
   "metadata": {},
   "outputs": [],
   "source": [
    "regression = LinearRegression(df.values[:, 0:-1], df.values[:,-1], maxIterations=1000,\n",
    "                    learningRate=0.0004, tolerance=0.001, gd=False, gd_type = \"batch\", regularization = True, lmbda = 0.001)"
   ]
  },
  {
   "cell_type": "code",
   "execution_count": 16,
   "id": "7de4e523",
   "metadata": {},
   "outputs": [
    {
     "name": "stdout",
     "output_type": "stream",
     "text": [
      "Matrix is full rank\n",
      "data is not Low Rank\n",
      "Solving using closed form solution\n",
      "Using L2-Regularization, Lambda:  0.001\n"
     ]
    }
   ],
   "source": [
    "regression.runModel()"
   ]
  },
  {
   "cell_type": "markdown",
   "id": "f19253f0",
   "metadata": {},
   "source": [
    "Let's look at the model weights"
   ]
  },
  {
   "cell_type": "code",
   "execution_count": 17,
   "id": "f3cd4100",
   "metadata": {},
   "outputs": [
    {
     "data": {
      "text/plain": [
       "array([22.93392937, -0.9075087 ,  1.04794718,  0.38863798,  0.66225127,\n",
       "       -2.1721009 ,  2.58718049,  0.50642973, -2.59557244,  2.308099  ,\n",
       "       -1.67312074, -2.33650137,  0.65618524, -3.99469858])"
      ]
     },
     "execution_count": 17,
     "metadata": {},
     "output_type": "execute_result"
    }
   ],
   "source": [
    "regression.w"
   ]
  },
  {
   "cell_type": "markdown",
   "id": "ac72af27",
   "metadata": {},
   "source": [
    "Now let us see the model performance on the test set"
   ]
  },
  {
   "cell_type": "code",
   "execution_count": 18,
   "id": "0080962d",
   "metadata": {},
   "outputs": [
    {
     "name": "stdout",
     "output_type": "stream",
     "text": [
      "Model RMSE Score on Test Set is:  4.624024253292391\n"
     ]
    }
   ],
   "source": [
    "regression.evaluate_model()"
   ]
  },
  {
   "cell_type": "markdown",
   "id": "ff1f5c49",
   "metadata": {},
   "source": [
    "##### 1.2 Using Batch Gradient Descent"
   ]
  },
  {
   "cell_type": "code",
   "execution_count": 19,
   "id": "b768fef8",
   "metadata": {},
   "outputs": [],
   "source": [
    "regression = LinearRegression(df.values[:, 0:-1], df.values[:,-1], maxIterations=1000,\n",
    "                    learningRate=0.0004, tolerance=0.001, gd=True, gd_type = \"batch\", regularization = True, lmbda = 0.001)"
   ]
  },
  {
   "cell_type": "code",
   "execution_count": 20,
   "id": "9d4fbb71",
   "metadata": {},
   "outputs": [
    {
     "name": "stderr",
     "output_type": "stream",
     "text": [
      "\r",
      "  0%|          | 0/1000 [00:00<?, ?it/s]"
     ]
    },
    {
     "name": "stdout",
     "output_type": "stream",
     "text": [
      "Matrix is full rank\n",
      "data is not Low Rank\n",
      "Solving using gradient descent\n"
     ]
    },
    {
     "data": {
      "image/png": "[encoded data removed]",
      "text/plain": [
       "<Figure size 432x288 with 1 Axes>"
      ]
     },
     "metadata": {
      "needs_background": "light"
     },
     "output_type": "display_data"
    },
    {
     "name": "stderr",
     "output_type": "stream",
     "text": [
      "  5%|▍         | 46/1000 [00:00<00:15, 61.72it/s]"
     ]
    },
    {
     "name": "stdout",
     "output_type": "stream",
     "text": [
      "Model Stopped\n",
      "[22.75586608 -0.75373618  0.71010162 -0.09859082  0.7290627  -1.30743266\n",
      "  2.95426329  0.13001183 -2.10555722  0.9387532  -0.5001978  -2.14793409\n",
      "  0.66217303 -3.67942838]\n"
     ]
    },
    {
     "name": "stderr",
     "output_type": "stream",
     "text": [
      "\n"
     ]
    },
    {
     "data": {
      "image/png": "[encoded data removed]",
      "text/plain": [
       "<Figure size 432x288 with 1 Axes>"
      ]
     },
     "metadata": {
      "needs_background": "light"
     },
     "output_type": "display_data"
    }
   ],
   "source": [
    "regression.runModel()"
   ]
  },
  {
   "cell_type": "markdown",
   "id": "13ec8478",
   "metadata": {},
   "source": [
    "The model weights are:"
   ]
  },
  {
   "cell_type": "code",
   "execution_count": 21,
   "id": "8225298b",
   "metadata": {},
   "outputs": [
    {
     "data": {
      "text/plain": [
       "array([22.75586608, -0.75373618,  0.71010162, -0.09859082,  0.7290627 ,\n",
       "       -1.30743266,  2.95426329,  0.13001183, -2.10555722,  0.9387532 ,\n",
       "       -0.5001978 , -2.14793409,  0.66217303, -3.67942838])"
      ]
     },
     "execution_count": 21,
     "metadata": {},
     "output_type": "execute_result"
    }
   ],
   "source": [
    "regression.w"
   ]
  },
  {
   "cell_type": "markdown",
   "id": "f323c5b4",
   "metadata": {},
   "source": [
    "Model performance on test set is:"
   ]
  },
  {
   "cell_type": "code",
   "execution_count": 22,
   "id": "3e8645ef",
   "metadata": {},
   "outputs": [
    {
     "name": "stdout",
     "output_type": "stream",
     "text": [
      "Model RMSE Score on Test Set is:  4.685385417112023\n"
     ]
    }
   ],
   "source": [
    "regression.evaluate_model()"
   ]
  },
  {
   "cell_type": "markdown",
   "id": "b12b63b3",
   "metadata": {},
   "source": [
    "##### 1.3 Using Stochastic Gradient Descent"
   ]
  },
  {
   "cell_type": "code",
   "execution_count": 23,
   "id": "fee7a73c",
   "metadata": {},
   "outputs": [],
   "source": [
    "regression = LinearRegression(df.values[:, 0:-1], df.values[:,-1], maxIterations=1000,\n",
    "                    learningRate=0.0004, tolerance=0.001, gd=True, gd_type = \"sgd\", regularization = True, lmbda = 0.00001)"
   ]
  },
  {
   "cell_type": "code",
   "execution_count": 24,
   "id": "8ba14080",
   "metadata": {},
   "outputs": [
    {
     "name": "stderr",
     "output_type": "stream",
     "text": [
      "\r",
      "  0%|          | 0/1000 [00:00<?, ?it/s]"
     ]
    },
    {
     "name": "stdout",
     "output_type": "stream",
     "text": [
      "Matrix is full rank\n",
      "data is not Low Rank\n",
      "Solving using Stochastic Gradient Descent\n"
     ]
    },
    {
     "data": {
      "image/png": "[encoded data removed]",
      "text/plain": [
       "<Figure size 432x288 with 1 Axes>"
      ]
     },
     "metadata": {
      "needs_background": "light"
     },
     "output_type": "display_data"
    },
    {
     "name": "stderr",
     "output_type": "stream",
     "text": [
      "  5%|▍         | 46/1000 [00:00<00:12, 76.26it/s]"
     ]
    },
    {
     "data": {
      "image/png": "[encoded data removed]",
      "text/plain": [
       "<Figure size 432x288 with 1 Axes>"
      ]
     },
     "metadata": {
      "needs_background": "light"
     },
     "output_type": "display_data"
    },
    {
     "name": "stderr",
     "output_type": "stream",
     "text": [
      "\r",
      "  5%|▌         | 52/1000 [00:01<00:30, 31.36it/s]"
     ]
    },
    {
     "name": "stdout",
     "output_type": "stream",
     "text": [
      "Model Stopped\n",
      "[22.37378365 -0.77969584  0.72124541 -0.10186495  0.74012158 -1.33560843\n",
      "  2.9298593   0.14234658 -2.0690155   0.93808233 -0.5342062  -2.1449579\n",
      "  0.65625484 -3.65848467]\n"
     ]
    },
    {
     "name": "stderr",
     "output_type": "stream",
     "text": [
      "\n"
     ]
    },
    {
     "data": {
      "image/png": "[encoded data removed]",
      "text/plain": [
       "<Figure size 432x288 with 1 Axes>"
      ]
     },
     "metadata": {
      "needs_background": "light"
     },
     "output_type": "display_data"
    }
   ],
   "source": [
    "regression.runModel()"
   ]
  },
  {
   "cell_type": "code",
   "execution_count": 25,
   "id": "9446ba76",
   "metadata": {},
   "outputs": [
    {
     "data": {
      "text/plain": [
       "array([22.37378365, -0.77969584,  0.72124541, -0.10186495,  0.74012158,\n",
       "       -1.33560843,  2.9298593 ,  0.14234658, -2.0690155 ,  0.93808233,\n",
       "       -0.5342062 , -2.1449579 ,  0.65625484, -3.65848467])"
      ]
     },
     "execution_count": 25,
     "metadata": {},
     "output_type": "execute_result"
    }
   ],
   "source": [
    "# Model Weights\n",
    "regression.w"
   ]
  },
  {
   "cell_type": "markdown",
   "id": "8fcdee79",
   "metadata": {},
   "source": [
    "Model performance on test set:"
   ]
  },
  {
   "cell_type": "code",
   "execution_count": 26,
   "id": "9d51dd9b",
   "metadata": {},
   "outputs": [
    {
     "name": "stdout",
     "output_type": "stream",
     "text": [
      "Model RMSE Score on Test Set is:  4.708848589327138\n"
     ]
    }
   ],
   "source": [
    "regression.evaluate_model()"
   ]
  },
  {
   "cell_type": "markdown",
   "id": "aebb9438",
   "metadata": {},
   "source": [
    "As we can see both the solutions: Normal as well as Gradient Descent solutions for the Housing dataset have similar results. All of them have approximately the same model weights. Moreover, their RMSE score on the test set is also similar at around 4.6-4.7"
   ]
  },
  {
   "cell_type": "markdown",
   "id": "2641eefc",
   "metadata": {},
   "source": [
    "#### 2. Yacht Data"
   ]
  },
  {
   "cell_type": "code",
   "execution_count": 27,
   "id": "3cc7331f",
   "metadata": {},
   "outputs": [],
   "source": [
    "# Import the Yacht dataset\n",
    "df = pd.read_csv(\"./datasets/yachtData.csv\")"
   ]
  },
  {
   "cell_type": "code",
   "execution_count": 28,
   "id": "ae477aaa",
   "metadata": {},
   "outputs": [
    {
     "data": {
      "text/html": [
       "<div>\n",
       "<style scoped>\n",
       "    .dataframe tbody tr th:only-of-type {\n",
       "        vertical-align: middle;\n",
       "    }\n",
       "\n",
       "    .dataframe tbody tr th {\n",
       "        vertical-align: top;\n",
       "    }\n",
       "\n",
       "    .dataframe thead th {\n",
       "        text-align: right;\n",
       "    }\n",
       "</style>\n",
       "<table border=\"1\" class=\"dataframe\">\n",
       "  <thead>\n",
       "    <tr style=\"text-align: right;\">\n",
       "      <th></th>\n",
       "      <th>-2.3</th>\n",
       "      <th>0.568</th>\n",
       "      <th>4.78</th>\n",
       "      <th>3.99</th>\n",
       "      <th>3.17</th>\n",
       "      <th>0.125</th>\n",
       "      <th>0.11</th>\n",
       "    </tr>\n",
       "  </thead>\n",
       "  <tbody>\n",
       "    <tr>\n",
       "      <th>0</th>\n",
       "      <td>-2.3</td>\n",
       "      <td>0.568</td>\n",
       "      <td>4.78</td>\n",
       "      <td>3.99</td>\n",
       "      <td>3.17</td>\n",
       "      <td>0.150</td>\n",
       "      <td>0.27</td>\n",
       "    </tr>\n",
       "    <tr>\n",
       "      <th>1</th>\n",
       "      <td>-2.3</td>\n",
       "      <td>0.568</td>\n",
       "      <td>4.78</td>\n",
       "      <td>3.99</td>\n",
       "      <td>3.17</td>\n",
       "      <td>0.175</td>\n",
       "      <td>0.47</td>\n",
       "    </tr>\n",
       "    <tr>\n",
       "      <th>2</th>\n",
       "      <td>-2.3</td>\n",
       "      <td>0.568</td>\n",
       "      <td>4.78</td>\n",
       "      <td>3.99</td>\n",
       "      <td>3.17</td>\n",
       "      <td>0.200</td>\n",
       "      <td>0.78</td>\n",
       "    </tr>\n",
       "    <tr>\n",
       "      <th>3</th>\n",
       "      <td>-2.3</td>\n",
       "      <td>0.568</td>\n",
       "      <td>4.78</td>\n",
       "      <td>3.99</td>\n",
       "      <td>3.17</td>\n",
       "      <td>0.225</td>\n",
       "      <td>1.18</td>\n",
       "    </tr>\n",
       "    <tr>\n",
       "      <th>4</th>\n",
       "      <td>-2.3</td>\n",
       "      <td>0.568</td>\n",
       "      <td>4.78</td>\n",
       "      <td>3.99</td>\n",
       "      <td>3.17</td>\n",
       "      <td>0.250</td>\n",
       "      <td>1.82</td>\n",
       "    </tr>\n",
       "  </tbody>\n",
       "</table>\n",
       "</div>"
      ],
      "text/plain": [
       "   -2.3  0.568  4.78  3.99  3.17  0.125  0.11\n",
       "0  -2.3  0.568  4.78  3.99  3.17  0.150  0.27\n",
       "1  -2.3  0.568  4.78  3.99  3.17  0.175  0.47\n",
       "2  -2.3  0.568  4.78  3.99  3.17  0.200  0.78\n",
       "3  -2.3  0.568  4.78  3.99  3.17  0.225  1.18\n",
       "4  -2.3  0.568  4.78  3.99  3.17  0.250  1.82"
      ]
     },
     "execution_count": 28,
     "metadata": {},
     "output_type": "execute_result"
    }
   ],
   "source": [
    "df.head()"
   ]
  },
  {
   "cell_type": "markdown",
   "id": "b3311364",
   "metadata": {},
   "source": [
    "##### 2.1 Closed Form Solution"
   ]
  },
  {
   "cell_type": "code",
   "execution_count": 29,
   "id": "85b652be",
   "metadata": {},
   "outputs": [],
   "source": [
    "regression = LinearRegression(df.values[:, 0:-1], df.values[:,-1], maxIterations=1000,\n",
    "                    learningRate=0.001, tolerance=0.001, gd=False, gd_type = \"batch\", regularization = True, lmbda = 0.001)"
   ]
  },
  {
   "cell_type": "code",
   "execution_count": 30,
   "id": "4a945236",
   "metadata": {},
   "outputs": [
    {
     "name": "stdout",
     "output_type": "stream",
     "text": [
      "Matrix is full rank\n",
      "data is not Low Rank\n",
      "Solving using closed form solution\n",
      "Using L2-Regularization, Lambda:  0.001\n"
     ]
    }
   ],
   "source": [
    "regression.runModel()"
   ]
  },
  {
   "cell_type": "code",
   "execution_count": 31,
   "id": "cd4e9587",
   "metadata": {},
   "outputs": [
    {
     "data": {
      "text/plain": [
       "array([10.74266008,  0.54271106, -0.48655894,  0.53098641, -0.58814081,\n",
       "       -0.84356367, 12.89445137])"
      ]
     },
     "execution_count": 31,
     "metadata": {},
     "output_type": "execute_result"
    }
   ],
   "source": [
    "# Let's look at the model weights\n",
    "regression.w"
   ]
  },
  {
   "cell_type": "markdown",
   "id": "9b30aca2",
   "metadata": {},
   "source": [
    "Let's look at model performance on test set"
   ]
  },
  {
   "cell_type": "code",
   "execution_count": 32,
   "id": "c142020c",
   "metadata": {},
   "outputs": [
    {
     "name": "stdout",
     "output_type": "stream",
     "text": [
      "Model RMSE Score on Test Set is:  9.05136013191135\n"
     ]
    }
   ],
   "source": [
    "regression.evaluate_model()"
   ]
  },
  {
   "cell_type": "markdown",
   "id": "b5bc960b",
   "metadata": {},
   "source": [
    "##### 2.2 Using Batch Gradient Descent "
   ]
  },
  {
   "cell_type": "code",
   "execution_count": 33,
   "id": "718a8f59",
   "metadata": {},
   "outputs": [],
   "source": [
    "regression = LinearRegression(df.values[:, 0:-1], df.values[:,-1], maxIterations=1000,\n",
    "                    learningRate=0.001, tolerance=0.001, gd=True, gd_type = \"batch\", regularization = True, lmbda = 0.001)"
   ]
  },
  {
   "cell_type": "code",
   "execution_count": 34,
   "id": "f4924783",
   "metadata": {},
   "outputs": [
    {
     "name": "stderr",
     "output_type": "stream",
     "text": [
      "\r",
      "  0%|          | 0/1000 [00:00<?, ?it/s]"
     ]
    },
    {
     "name": "stdout",
     "output_type": "stream",
     "text": [
      "Matrix is full rank\n",
      "data is not Low Rank\n",
      "Solving using gradient descent\n"
     ]
    },
    {
     "data": {
      "image/png": "[encoded data removed]",
      "text/plain": [
       "<Figure size 432x288 with 1 Axes>"
      ]
     },
     "metadata": {
      "needs_background": "light"
     },
     "output_type": "display_data"
    },
    {
     "name": "stderr",
     "output_type": "stream",
     "text": [
      "  2%|▏         | 18/1000 [00:00<00:39, 24.98it/s]"
     ]
    },
    {
     "name": "stdout",
     "output_type": "stream",
     "text": [
      "Model Stopped\n",
      "[10.58519363  0.54950453 -0.63620046 -0.12611927 -0.05585083 -0.21229842\n",
      " 12.70094562]\n"
     ]
    },
    {
     "name": "stderr",
     "output_type": "stream",
     "text": [
      "\n"
     ]
    },
    {
     "data": {
      "image/png": "[encoded data removed]",
      "text/plain": [
       "<Figure size 432x288 with 1 Axes>"
      ]
     },
     "metadata": {
      "needs_background": "light"
     },
     "output_type": "display_data"
    }
   ],
   "source": [
    "regression.runModel()"
   ]
  },
  {
   "cell_type": "code",
   "execution_count": 35,
   "id": "81f1de68",
   "metadata": {},
   "outputs": [
    {
     "data": {
      "text/plain": [
       "array([10.58519363,  0.54950453, -0.63620046, -0.12611927, -0.05585083,\n",
       "       -0.21229842, 12.70094562])"
      ]
     },
     "execution_count": 35,
     "metadata": {},
     "output_type": "execute_result"
    }
   ],
   "source": [
    "# Model Weights\n",
    "regression.w"
   ]
  },
  {
   "cell_type": "markdown",
   "id": "913eb190",
   "metadata": {},
   "source": [
    "Test set performance:"
   ]
  },
  {
   "cell_type": "code",
   "execution_count": 36,
   "id": "c585af69",
   "metadata": {},
   "outputs": [
    {
     "name": "stdout",
     "output_type": "stream",
     "text": [
      "Model RMSE Score on Test Set is:  8.996798431562576\n"
     ]
    }
   ],
   "source": [
    "regression.evaluate_model()"
   ]
  },
  {
   "cell_type": "markdown",
   "id": "111bfdfd",
   "metadata": {},
   "source": [
    "##### 2.3 Using Stochastic Gradient Descent"
   ]
  },
  {
   "cell_type": "code",
   "execution_count": 37,
   "id": "6a50d95f",
   "metadata": {},
   "outputs": [],
   "source": [
    "regression = LinearRegression(df.values[:, 0:-1], df.values[:,-1], maxIterations=1000,\n",
    "                    learningRate=0.001, tolerance=0.001, gd=True, gd_type = \"sgd\", regularization = True, lmbda = 0.0001)"
   ]
  },
  {
   "cell_type": "code",
   "execution_count": 38,
   "id": "df78746f",
   "metadata": {},
   "outputs": [
    {
     "name": "stderr",
     "output_type": "stream",
     "text": [
      "\r",
      "  0%|          | 0/1000 [00:00<?, ?it/s]"
     ]
    },
    {
     "name": "stdout",
     "output_type": "stream",
     "text": [
      "Matrix is full rank\n",
      "data is not Low Rank\n",
      "Solving using Stochastic Gradient Descent\n"
     ]
    },
    {
     "data": {
      "image/png": "[encoded data removed]",
      "text/plain": [
       "<Figure size 432x288 with 1 Axes>"
      ]
     },
     "metadata": {
      "needs_background": "light"
     },
     "output_type": "display_data"
    },
    {
     "name": "stderr",
     "output_type": "stream",
     "text": [
      "  3%|▎         | 26/1000 [00:00<00:31, 30.75it/s]"
     ]
    },
    {
     "name": "stdout",
     "output_type": "stream",
     "text": [
      "Model Stopped\n",
      "[ 9.7573093   0.56245226 -0.61110346 -0.15533582 -0.12113649 -0.19827041\n",
      " 11.72325767]\n"
     ]
    },
    {
     "name": "stderr",
     "output_type": "stream",
     "text": [
      "\n"
     ]
    },
    {
     "data": {
      "image/png": "[encoded data removed]",
      "text/plain": [
       "<Figure size 432x288 with 1 Axes>"
      ]
     },
     "metadata": {
      "needs_background": "light"
     },
     "output_type": "display_data"
    }
   ],
   "source": [
    "regression.runModel()"
   ]
  },
  {
   "cell_type": "code",
   "execution_count": 39,
   "id": "c08b0ba5",
   "metadata": {},
   "outputs": [
    {
     "data": {
      "text/plain": [
       "array([ 9.7573093 ,  0.56245226, -0.61110346, -0.15533582, -0.12113649,\n",
       "       -0.19827041, 11.72325767])"
      ]
     },
     "execution_count": 39,
     "metadata": {},
     "output_type": "execute_result"
    }
   ],
   "source": [
    "# Model weights\n",
    "regression.w"
   ]
  },
  {
   "cell_type": "markdown",
   "id": "9dff4409",
   "metadata": {},
   "source": [
    "Let's see test set performance:"
   ]
  },
  {
   "cell_type": "code",
   "execution_count": 40,
   "id": "209f77f1",
   "metadata": {},
   "outputs": [
    {
     "name": "stdout",
     "output_type": "stream",
     "text": [
      "Model RMSE Score on Test Set is:  8.808564887959838\n"
     ]
    }
   ],
   "source": [
    "regression.evaluate_model()"
   ]
  },
  {
   "cell_type": "markdown",
   "id": "444b69a2",
   "metadata": {},
   "source": [
    "We can see that for the Yacht dataset, all three models (i.e, Closed Form, BGD and SGD) have similar weights and test set performance. The gradient descent versions perform slightly better on the test set RMSE score (8.8 vs 9.05). "
   ]
  },
  {
   "cell_type": "markdown",
   "id": "42f64335",
   "metadata": {},
   "source": [
    "#### 3. Concrete Data"
   ]
  },
  {
   "cell_type": "code",
   "execution_count": 41,
   "id": "3b513ed2",
   "metadata": {},
   "outputs": [],
   "source": [
    "# Import the Concrete dataset\n",
    "df = pd.read_csv(\"./datasets/concreteData.csv\")"
   ]
  },
  {
   "cell_type": "code",
   "execution_count": 42,
   "id": "4d6e0044",
   "metadata": {},
   "outputs": [
    {
     "data": {
      "text/html": [
       "<div>\n",
       "<style scoped>\n",
       "    .dataframe tbody tr th:only-of-type {\n",
       "        vertical-align: middle;\n",
       "    }\n",
       "\n",
       "    .dataframe tbody tr th {\n",
       "        vertical-align: top;\n",
       "    }\n",
       "\n",
       "    .dataframe thead th {\n",
       "        text-align: right;\n",
       "    }\n",
       "</style>\n",
       "<table border=\"1\" class=\"dataframe\">\n",
       "  <thead>\n",
       "    <tr style=\"text-align: right;\">\n",
       "      <th></th>\n",
       "      <th>540</th>\n",
       "      <th>0</th>\n",
       "      <th>0.1</th>\n",
       "      <th>162</th>\n",
       "      <th>2.5</th>\n",
       "      <th>1040</th>\n",
       "      <th>676</th>\n",
       "      <th>28</th>\n",
       "      <th>79.99</th>\n",
       "    </tr>\n",
       "  </thead>\n",
       "  <tbody>\n",
       "    <tr>\n",
       "      <th>0</th>\n",
       "      <td>540.0</td>\n",
       "      <td>0.0</td>\n",
       "      <td>0.0</td>\n",
       "      <td>162.0</td>\n",
       "      <td>2.5</td>\n",
       "      <td>1055.0</td>\n",
       "      <td>676.0</td>\n",
       "      <td>28</td>\n",
       "      <td>61.89</td>\n",
       "    </tr>\n",
       "    <tr>\n",
       "      <th>1</th>\n",
       "      <td>332.5</td>\n",
       "      <td>142.5</td>\n",
       "      <td>0.0</td>\n",
       "      <td>228.0</td>\n",
       "      <td>0.0</td>\n",
       "      <td>932.0</td>\n",
       "      <td>594.0</td>\n",
       "      <td>270</td>\n",
       "      <td>40.27</td>\n",
       "    </tr>\n",
       "    <tr>\n",
       "      <th>2</th>\n",
       "      <td>332.5</td>\n",
       "      <td>142.5</td>\n",
       "      <td>0.0</td>\n",
       "      <td>228.0</td>\n",
       "      <td>0.0</td>\n",
       "      <td>932.0</td>\n",
       "      <td>594.0</td>\n",
       "      <td>365</td>\n",
       "      <td>41.05</td>\n",
       "    </tr>\n",
       "    <tr>\n",
       "      <th>3</th>\n",
       "      <td>198.6</td>\n",
       "      <td>132.4</td>\n",
       "      <td>0.0</td>\n",
       "      <td>192.0</td>\n",
       "      <td>0.0</td>\n",
       "      <td>978.4</td>\n",
       "      <td>825.5</td>\n",
       "      <td>360</td>\n",
       "      <td>44.30</td>\n",
       "    </tr>\n",
       "    <tr>\n",
       "      <th>4</th>\n",
       "      <td>266.0</td>\n",
       "      <td>114.0</td>\n",
       "      <td>0.0</td>\n",
       "      <td>228.0</td>\n",
       "      <td>0.0</td>\n",
       "      <td>932.0</td>\n",
       "      <td>670.0</td>\n",
       "      <td>90</td>\n",
       "      <td>47.03</td>\n",
       "    </tr>\n",
       "  </tbody>\n",
       "</table>\n",
       "</div>"
      ],
      "text/plain": [
       "     540      0  0.1    162  2.5    1040    676   28  79.99\n",
       "0  540.0    0.0  0.0  162.0  2.5  1055.0  676.0   28  61.89\n",
       "1  332.5  142.5  0.0  228.0  0.0   932.0  594.0  270  40.27\n",
       "2  332.5  142.5  0.0  228.0  0.0   932.0  594.0  365  41.05\n",
       "3  198.6  132.4  0.0  192.0  0.0   978.4  825.5  360  44.30\n",
       "4  266.0  114.0  0.0  228.0  0.0   932.0  670.0   90  47.03"
      ]
     },
     "execution_count": 42,
     "metadata": {},
     "output_type": "execute_result"
    }
   ],
   "source": [
    "df.head()"
   ]
  },
  {
   "cell_type": "markdown",
   "id": "2aded55b",
   "metadata": {},
   "source": [
    "#### 3.1 Closed Form Solution"
   ]
  },
  {
   "cell_type": "code",
   "execution_count": 43,
   "id": "444223c9",
   "metadata": {},
   "outputs": [],
   "source": [
    "regression = LinearRegression(df.values[:, 0:-1], df.values[:,-1], maxIterations=1000,\n",
    "                    learningRate=0.0007, tolerance=0.0001, gd=False, gd_type = \"batch\", regularization = True, lmbda = 0.001)"
   ]
  },
  {
   "cell_type": "code",
   "execution_count": 44,
   "id": "06441174",
   "metadata": {},
   "outputs": [
    {
     "name": "stdout",
     "output_type": "stream",
     "text": [
      "Matrix is full rank\n",
      "data is not Low Rank\n",
      "Solving using closed form solution\n",
      "Using L2-Regularization, Lambda:  0.001\n"
     ]
    }
   ],
   "source": [
    "regression.runModel()"
   ]
  },
  {
   "cell_type": "code",
   "execution_count": 45,
   "id": "b41da2dc",
   "metadata": {},
   "outputs": [
    {
     "data": {
      "text/plain": [
       "array([35.55864506, 13.07034278,  9.29585262,  6.07729726, -2.38816303,\n",
       "        2.13444327,  1.74763946,  1.75727736,  7.36634234])"
      ]
     },
     "execution_count": 45,
     "metadata": {},
     "output_type": "execute_result"
    }
   ],
   "source": [
    "# Model Weights\n",
    "regression.w"
   ]
  },
  {
   "cell_type": "markdown",
   "id": "2d1b0234",
   "metadata": {},
   "source": [
    "Taking a look at the model's test set performance:"
   ]
  },
  {
   "cell_type": "code",
   "execution_count": 46,
   "id": "a9acf0c3",
   "metadata": {},
   "outputs": [
    {
     "name": "stdout",
     "output_type": "stream",
     "text": [
      "Model RMSE Score on Test Set is:  11.10633831300983\n"
     ]
    }
   ],
   "source": [
    "regression.evaluate_model()"
   ]
  },
  {
   "cell_type": "markdown",
   "id": "d8513a96",
   "metadata": {},
   "source": [
    "##### 3.2 Using Batch Gradient Descent"
   ]
  },
  {
   "cell_type": "code",
   "execution_count": 47,
   "id": "3cf03885",
   "metadata": {},
   "outputs": [],
   "source": [
    "regression = LinearRegression(df.values[:, 0:-1], df.values[:,-1], maxIterations=1000,\n",
    "                    learningRate=0.0007, tolerance=0.0001, gd=True, gd_type = \"batch\", regularization = True, lmbda = 0.001)"
   ]
  },
  {
   "cell_type": "code",
   "execution_count": 48,
   "id": "937bfb39",
   "metadata": {},
   "outputs": [
    {
     "name": "stderr",
     "output_type": "stream",
     "text": [
      "\r",
      "  0%|          | 0/1000 [00:00<?, ?it/s]"
     ]
    },
    {
     "name": "stdout",
     "output_type": "stream",
     "text": [
      "Matrix is full rank\n",
      "data is not Low Rank\n",
      "Solving using gradient descent\n"
     ]
    },
    {
     "data": {
      "image/png": "[encoded data removed]",
      "text/plain": [
       "<Figure size 432x288 with 1 Axes>"
      ]
     },
     "metadata": {
      "needs_background": "light"
     },
     "output_type": "display_data"
    },
    {
     "name": "stderr",
     "output_type": "stream",
     "text": [
      "\r",
      "  0%|          | 2/1000 [00:00<05:56,  2.80it/s]"
     ]
    },
    {
     "data": {
      "image/png": "[encoded data removed]",
      "text/plain": [
       "<Figure size 432x288 with 1 Axes>"
      ]
     },
     "metadata": {
      "needs_background": "light"
     },
     "output_type": "display_data"
    },
    {
     "name": "stderr",
     "output_type": "stream",
     "text": [
      "\r",
      "  5%|▌         | 52/1000 [00:01<00:23, 41.08it/s]"
     ]
    },
    {
     "data": {
      "image/png": "[encoded data removed]",
      "text/plain": [
       "<Figure size 432x288 with 1 Axes>"
      ]
     },
     "metadata": {
      "needs_background": "light"
     },
     "output_type": "display_data"
    },
    {
     "name": "stderr",
     "output_type": "stream",
     "text": [
      " 13%|█▎        | 127/1000 [00:02<00:15, 57.42it/s]"
     ]
    },
    {
     "name": "stdout",
     "output_type": "stream",
     "text": [
      "Model Stopped\n",
      "[35.48828119 12.06965872  8.28748438  5.19789336 -3.1701114   2.06823916\n",
      "  1.00155658  0.81571259  7.31777493]\n"
     ]
    },
    {
     "name": "stderr",
     "output_type": "stream",
     "text": [
      "\n"
     ]
    },
    {
     "data": {
      "image/png": "[encoded data removed]",
      "text/plain": [
       "<Figure size 432x288 with 1 Axes>"
      ]
     },
     "metadata": {
      "needs_background": "light"
     },
     "output_type": "display_data"
    }
   ],
   "source": [
    "regression.runModel()"
   ]
  },
  {
   "cell_type": "code",
   "execution_count": 49,
   "id": "36dfa789",
   "metadata": {},
   "outputs": [
    {
     "data": {
      "text/plain": [
       "array([35.48828119, 12.06965872,  8.28748438,  5.19789336, -3.1701114 ,\n",
       "        2.06823916,  1.00155658,  0.81571259,  7.31777493])"
      ]
     },
     "execution_count": 49,
     "metadata": {},
     "output_type": "execute_result"
    }
   ],
   "source": [
    "# Model Weights\n",
    "regression.w"
   ]
  },
  {
   "cell_type": "markdown",
   "id": "688ec1e1",
   "metadata": {},
   "source": [
    "Looking at model test set performance:"
   ]
  },
  {
   "cell_type": "code",
   "execution_count": 50,
   "id": "a995dafa",
   "metadata": {},
   "outputs": [
    {
     "name": "stdout",
     "output_type": "stream",
     "text": [
      "Model RMSE Score on Test Set is:  11.098327622955809\n"
     ]
    }
   ],
   "source": [
    "regression.evaluate_model()"
   ]
  },
  {
   "cell_type": "markdown",
   "id": "f1eb3ca6",
   "metadata": {},
   "source": [
    "##### 3.3 Using Stochastic Gradient Descent"
   ]
  },
  {
   "cell_type": "code",
   "execution_count": 51,
   "id": "131696e2",
   "metadata": {},
   "outputs": [],
   "source": [
    "regression = LinearRegression(df.values[:, 0:-1], df.values[:,-1], maxIterations=1000,\n",
    "                    learningRate=0.0007, tolerance=0.0001, gd=True, gd_type = \"sgd\", regularization = True, lmbda = 0.000001)"
   ]
  },
  {
   "cell_type": "code",
   "execution_count": 52,
   "id": "3cb359de",
   "metadata": {},
   "outputs": [
    {
     "name": "stderr",
     "output_type": "stream",
     "text": [
      "\r",
      "  0%|          | 0/1000 [00:00<?, ?it/s]"
     ]
    },
    {
     "name": "stdout",
     "output_type": "stream",
     "text": [
      "Matrix is full rank\n",
      "data is not Low Rank\n",
      "Solving using Stochastic Gradient Descent\n"
     ]
    },
    {
     "data": {
      "image/png": "[encoded data removed]",
      "text/plain": [
       "<Figure size 432x288 with 1 Axes>"
      ]
     },
     "metadata": {
      "needs_background": "light"
     },
     "output_type": "display_data"
    },
    {
     "name": "stderr",
     "output_type": "stream",
     "text": [
      "  4%|▍         | 40/1000 [00:01<00:15, 62.51it/s]"
     ]
    },
    {
     "data": {
      "image/png": "[encoded data removed]",
      "text/plain": [
       "<Figure size 432x288 with 1 Axes>"
      ]
     },
     "metadata": {
      "needs_background": "light"
     },
     "output_type": "display_data"
    },
    {
     "name": "stderr",
     "output_type": "stream",
     "text": [
      "  9%|▉         | 90/1000 [00:02<00:13, 66.97it/s]"
     ]
    },
    {
     "data": {
      "image/png": "[encoded data removed]",
      "text/plain": [
       "<Figure size 432x288 with 1 Axes>"
      ]
     },
     "metadata": {
      "needs_background": "light"
     },
     "output_type": "display_data"
    },
    {
     "name": "stderr",
     "output_type": "stream",
     "text": [
      " 13%|█▎        | 133/1000 [00:03<00:20, 42.05it/s]\n"
     ]
    },
    {
     "name": "stdout",
     "output_type": "stream",
     "text": [
      "Model Stopped\n",
      "[35.53357579 12.10758249  8.38636479  5.3444203  -3.07377149  2.10366895\n",
      "  1.0084625   0.98811502  7.17936603]\n"
     ]
    },
    {
     "data": {
      "image/png": "[encoded data removed]",
      "text/plain": [
       "<Figure size 432x288 with 1 Axes>"
      ]
     },
     "metadata": {
      "needs_background": "light"
     },
     "output_type": "display_data"
    }
   ],
   "source": [
    "regression.runModel()"
   ]
  },
  {
   "cell_type": "code",
   "execution_count": 53,
   "id": "5a48d1c9",
   "metadata": {},
   "outputs": [
    {
     "data": {
      "text/plain": [
       "array([35.53357579, 12.10758249,  8.38636479,  5.3444203 , -3.07377149,\n",
       "        2.10366895,  1.0084625 ,  0.98811502,  7.17936603])"
      ]
     },
     "execution_count": 53,
     "metadata": {},
     "output_type": "execute_result"
    }
   ],
   "source": [
    "# Model Weights\n",
    "regression.w"
   ]
  },
  {
   "cell_type": "markdown",
   "id": "8ae4480f",
   "metadata": {},
   "source": [
    "Let's look at model's test set performance:"
   ]
  },
  {
   "cell_type": "code",
   "execution_count": 54,
   "id": "2e18f7a5",
   "metadata": {},
   "outputs": [
    {
     "name": "stdout",
     "output_type": "stream",
     "text": [
      "Model RMSE Score on Test Set is:  11.045771867321234\n"
     ]
    }
   ],
   "source": [
    "regression.evaluate_model()"
   ]
  },
  {
   "cell_type": "markdown",
   "id": "e4de371c",
   "metadata": {},
   "source": [
    "All the models have similar performance on the Concrete Dataset, with the test RMSE being around 11.04"
   ]
  },
  {
   "cell_type": "code",
   "execution_count": null,
   "id": "4155153a",
   "metadata": {},
   "outputs": [],
   "source": []
  },
  {
   "cell_type": "code",
   "execution_count": null,
   "id": "0d2ccdee",
   "metadata": {},
   "outputs": [],
   "source": []
  }
 ],
 "metadata": {
  "kernelspec": {
   "display_name": "Python 3",
   "language": "python",
   "name": "python3"
  },
  "language_info": {
   "codemirror_mode": {
    "name": "ipython",
    "version": 3
   },
   "file_extension": ".py",
   "mimetype": "text/x-python",
   "name": "python",
   "nbconvert_exporter": "python",
   "pygments_lexer": "ipython3",
   "version": "3.8.8"
  }
 },
 "nbformat": 4,
 "nbformat_minor": 5
}
