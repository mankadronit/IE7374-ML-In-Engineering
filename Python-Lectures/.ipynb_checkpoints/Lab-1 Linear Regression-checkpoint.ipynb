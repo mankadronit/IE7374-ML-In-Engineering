{
 "cells": [
  {
   "cell_type": "markdown",
   "id": "101e799a",
   "metadata": {},
   "source": [
    "# Linear Regression"
   ]
  },
  {
   "cell_type": "code",
   "execution_count": 430,
   "id": "4ab5dbf5",
   "metadata": {},
   "outputs": [],
   "source": [
    "import numpy as np\n",
    "import pandas as pd\n",
    "from tqdm import tqdm\n",
    "\n",
    "import math\n",
    "from sklearn.model_selection import train_test_split\n",
    "import matplotlib.pyplot as plt\n",
    "\n",
    "np.random.seed(42)"
   ]
  },
  {
   "cell_type": "code",
   "execution_count": 431,
   "id": "aad0931b",
   "metadata": {},
   "outputs": [],
   "source": [
    "def import_dataset(filename):\n",
    "    return pd.read_csv(filename, header=None, dtype=np.float64)"
   ]
  },
  {
   "cell_type": "code",
   "execution_count": 432,
   "id": "47f1ef81",
   "metadata": {},
   "outputs": [],
   "source": [
    "df = import_dataset('~/Desktop/IE7374 Machine Learning In Engineering/Python-Lectures/concreteData.csv')"
   ]
  },
  {
   "cell_type": "code",
   "execution_count": 433,
   "id": "1d6eb11c",
   "metadata": {},
   "outputs": [
    {
     "data": {
      "text/html": [
       "<div>\n",
       "<style scoped>\n",
       "    .dataframe tbody tr th:only-of-type {\n",
       "        vertical-align: middle;\n",
       "    }\n",
       "\n",
       "    .dataframe tbody tr th {\n",
       "        vertical-align: top;\n",
       "    }\n",
       "\n",
       "    .dataframe thead th {\n",
       "        text-align: right;\n",
       "    }\n",
       "</style>\n",
       "<table border=\"1\" class=\"dataframe\">\n",
       "  <thead>\n",
       "    <tr style=\"text-align: right;\">\n",
       "      <th></th>\n",
       "      <th>0</th>\n",
       "      <th>1</th>\n",
       "      <th>2</th>\n",
       "      <th>3</th>\n",
       "      <th>4</th>\n",
       "      <th>5</th>\n",
       "      <th>6</th>\n",
       "      <th>7</th>\n",
       "      <th>8</th>\n",
       "    </tr>\n",
       "  </thead>\n",
       "  <tbody>\n",
       "    <tr>\n",
       "      <th>0</th>\n",
       "      <td>540.0</td>\n",
       "      <td>0.0</td>\n",
       "      <td>0.0</td>\n",
       "      <td>162.0</td>\n",
       "      <td>2.5</td>\n",
       "      <td>1040.0</td>\n",
       "      <td>676.0</td>\n",
       "      <td>28.0</td>\n",
       "      <td>79.99</td>\n",
       "    </tr>\n",
       "    <tr>\n",
       "      <th>1</th>\n",
       "      <td>540.0</td>\n",
       "      <td>0.0</td>\n",
       "      <td>0.0</td>\n",
       "      <td>162.0</td>\n",
       "      <td>2.5</td>\n",
       "      <td>1055.0</td>\n",
       "      <td>676.0</td>\n",
       "      <td>28.0</td>\n",
       "      <td>61.89</td>\n",
       "    </tr>\n",
       "    <tr>\n",
       "      <th>2</th>\n",
       "      <td>332.5</td>\n",
       "      <td>142.5</td>\n",
       "      <td>0.0</td>\n",
       "      <td>228.0</td>\n",
       "      <td>0.0</td>\n",
       "      <td>932.0</td>\n",
       "      <td>594.0</td>\n",
       "      <td>270.0</td>\n",
       "      <td>40.27</td>\n",
       "    </tr>\n",
       "    <tr>\n",
       "      <th>3</th>\n",
       "      <td>332.5</td>\n",
       "      <td>142.5</td>\n",
       "      <td>0.0</td>\n",
       "      <td>228.0</td>\n",
       "      <td>0.0</td>\n",
       "      <td>932.0</td>\n",
       "      <td>594.0</td>\n",
       "      <td>365.0</td>\n",
       "      <td>41.05</td>\n",
       "    </tr>\n",
       "    <tr>\n",
       "      <th>4</th>\n",
       "      <td>198.6</td>\n",
       "      <td>132.4</td>\n",
       "      <td>0.0</td>\n",
       "      <td>192.0</td>\n",
       "      <td>0.0</td>\n",
       "      <td>978.4</td>\n",
       "      <td>825.5</td>\n",
       "      <td>360.0</td>\n",
       "      <td>44.30</td>\n",
       "    </tr>\n",
       "  </tbody>\n",
       "</table>\n",
       "</div>"
      ],
      "text/plain": [
       "       0      1    2      3    4       5      6      7      8\n",
       "0  540.0    0.0  0.0  162.0  2.5  1040.0  676.0   28.0  79.99\n",
       "1  540.0    0.0  0.0  162.0  2.5  1055.0  676.0   28.0  61.89\n",
       "2  332.5  142.5  0.0  228.0  0.0   932.0  594.0  270.0  40.27\n",
       "3  332.5  142.5  0.0  228.0  0.0   932.0  594.0  365.0  41.05\n",
       "4  198.6  132.4  0.0  192.0  0.0   978.4  825.5  360.0  44.30"
      ]
     },
     "execution_count": 433,
     "metadata": {},
     "output_type": "execute_result"
    }
   ],
   "source": [
    "df.head()"
   ]
  },
  {
   "cell_type": "code",
   "execution_count": 434,
   "id": "c98d9958",
   "metadata": {},
   "outputs": [
    {
     "data": {
      "text/html": [
       "<div>\n",
       "<style scoped>\n",
       "    .dataframe tbody tr th:only-of-type {\n",
       "        vertical-align: middle;\n",
       "    }\n",
       "\n",
       "    .dataframe tbody tr th {\n",
       "        vertical-align: top;\n",
       "    }\n",
       "\n",
       "    .dataframe thead th {\n",
       "        text-align: right;\n",
       "    }\n",
       "</style>\n",
       "<table border=\"1\" class=\"dataframe\">\n",
       "  <thead>\n",
       "    <tr style=\"text-align: right;\">\n",
       "      <th></th>\n",
       "      <th>0</th>\n",
       "      <th>1</th>\n",
       "      <th>2</th>\n",
       "      <th>3</th>\n",
       "      <th>4</th>\n",
       "      <th>5</th>\n",
       "      <th>6</th>\n",
       "      <th>7</th>\n",
       "      <th>8</th>\n",
       "    </tr>\n",
       "  </thead>\n",
       "  <tbody>\n",
       "    <tr>\n",
       "      <th>count</th>\n",
       "      <td>1030.000000</td>\n",
       "      <td>1030.000000</td>\n",
       "      <td>1030.000000</td>\n",
       "      <td>1030.000000</td>\n",
       "      <td>1030.000000</td>\n",
       "      <td>1030.000000</td>\n",
       "      <td>1030.000000</td>\n",
       "      <td>1030.000000</td>\n",
       "      <td>1030.000000</td>\n",
       "    </tr>\n",
       "    <tr>\n",
       "      <th>mean</th>\n",
       "      <td>281.167864</td>\n",
       "      <td>73.895825</td>\n",
       "      <td>54.188350</td>\n",
       "      <td>181.567282</td>\n",
       "      <td>6.204660</td>\n",
       "      <td>972.918932</td>\n",
       "      <td>773.580485</td>\n",
       "      <td>45.662136</td>\n",
       "      <td>35.817961</td>\n",
       "    </tr>\n",
       "    <tr>\n",
       "      <th>std</th>\n",
       "      <td>104.506364</td>\n",
       "      <td>86.279342</td>\n",
       "      <td>63.997004</td>\n",
       "      <td>21.354219</td>\n",
       "      <td>5.973841</td>\n",
       "      <td>77.753954</td>\n",
       "      <td>80.175980</td>\n",
       "      <td>63.169912</td>\n",
       "      <td>16.705742</td>\n",
       "    </tr>\n",
       "    <tr>\n",
       "      <th>min</th>\n",
       "      <td>102.000000</td>\n",
       "      <td>0.000000</td>\n",
       "      <td>0.000000</td>\n",
       "      <td>121.800000</td>\n",
       "      <td>0.000000</td>\n",
       "      <td>801.000000</td>\n",
       "      <td>594.000000</td>\n",
       "      <td>1.000000</td>\n",
       "      <td>2.330000</td>\n",
       "    </tr>\n",
       "    <tr>\n",
       "      <th>25%</th>\n",
       "      <td>192.375000</td>\n",
       "      <td>0.000000</td>\n",
       "      <td>0.000000</td>\n",
       "      <td>164.900000</td>\n",
       "      <td>0.000000</td>\n",
       "      <td>932.000000</td>\n",
       "      <td>730.950000</td>\n",
       "      <td>7.000000</td>\n",
       "      <td>23.710000</td>\n",
       "    </tr>\n",
       "    <tr>\n",
       "      <th>50%</th>\n",
       "      <td>272.900000</td>\n",
       "      <td>22.000000</td>\n",
       "      <td>0.000000</td>\n",
       "      <td>185.000000</td>\n",
       "      <td>6.400000</td>\n",
       "      <td>968.000000</td>\n",
       "      <td>779.500000</td>\n",
       "      <td>28.000000</td>\n",
       "      <td>34.445000</td>\n",
       "    </tr>\n",
       "    <tr>\n",
       "      <th>75%</th>\n",
       "      <td>350.000000</td>\n",
       "      <td>142.950000</td>\n",
       "      <td>118.300000</td>\n",
       "      <td>192.000000</td>\n",
       "      <td>10.200000</td>\n",
       "      <td>1029.400000</td>\n",
       "      <td>824.000000</td>\n",
       "      <td>56.000000</td>\n",
       "      <td>46.135000</td>\n",
       "    </tr>\n",
       "    <tr>\n",
       "      <th>max</th>\n",
       "      <td>540.000000</td>\n",
       "      <td>359.400000</td>\n",
       "      <td>200.100000</td>\n",
       "      <td>247.000000</td>\n",
       "      <td>32.200000</td>\n",
       "      <td>1145.000000</td>\n",
       "      <td>992.600000</td>\n",
       "      <td>365.000000</td>\n",
       "      <td>82.600000</td>\n",
       "    </tr>\n",
       "  </tbody>\n",
       "</table>\n",
       "</div>"
      ],
      "text/plain": [
       "                 0            1            2            3            4  \\\n",
       "count  1030.000000  1030.000000  1030.000000  1030.000000  1030.000000   \n",
       "mean    281.167864    73.895825    54.188350   181.567282     6.204660   \n",
       "std     104.506364    86.279342    63.997004    21.354219     5.973841   \n",
       "min     102.000000     0.000000     0.000000   121.800000     0.000000   \n",
       "25%     192.375000     0.000000     0.000000   164.900000     0.000000   \n",
       "50%     272.900000    22.000000     0.000000   185.000000     6.400000   \n",
       "75%     350.000000   142.950000   118.300000   192.000000    10.200000   \n",
       "max     540.000000   359.400000   200.100000   247.000000    32.200000   \n",
       "\n",
       "                 5            6            7            8  \n",
       "count  1030.000000  1030.000000  1030.000000  1030.000000  \n",
       "mean    972.918932   773.580485    45.662136    35.817961  \n",
       "std      77.753954    80.175980    63.169912    16.705742  \n",
       "min     801.000000   594.000000     1.000000     2.330000  \n",
       "25%     932.000000   730.950000     7.000000    23.710000  \n",
       "50%     968.000000   779.500000    28.000000    34.445000  \n",
       "75%    1029.400000   824.000000    56.000000    46.135000  \n",
       "max    1145.000000   992.600000   365.000000    82.600000  "
      ]
     },
     "execution_count": 434,
     "metadata": {},
     "output_type": "execute_result"
    }
   ],
   "source": [
    "df.describe()"
   ]
  },
  {
   "cell_type": "code",
   "execution_count": 435,
   "id": "879d047d",
   "metadata": {},
   "outputs": [],
   "source": [
    "df = np.array(df)"
   ]
  },
  {
   "cell_type": "code",
   "execution_count": 510,
   "id": "c88d2021",
   "metadata": {},
   "outputs": [],
   "source": [
    "class LinearRegression:\n",
    "    def __init__(self, X, y):\n",
    "        self.X = X\n",
    "        self.y = y.reshape(y.shape[0], 1)\n",
    "        \n",
    "        \n",
    "    def add_bias(self, X):\n",
    "        return np.column_stack([np.ones(shape = (X.shape[0], 1), dtype=np.float64), X])\n",
    "    \n",
    "    def normalize(self, X):\n",
    "        self.train_mean = np.mean(X, axis = 0)\n",
    "        self.train_std = np.std(X, axis = 0)\n",
    "        \n",
    "        X = (X - self.train_mean)/self.train_std\n",
    "        \n",
    "        return self.add_bias(X)\n",
    "    \n",
    "    def normalize_test(self, X):\n",
    "        X = (X - self.train_mean)/self.train_std\n",
    "        \n",
    "        return self.add_bias(X)\n",
    "    \n",
    "    def is_full_rank(self, X, eps=1e-6):\n",
    "        u, s, vh = np.linalg.svd(X)\n",
    "        rank = len([x for x in s if abs(x) > eps]) \n",
    "        \n",
    "        if rank == min(X.shape[0], X.shape[1]):\n",
    "            return True\n",
    "        return False\n",
    "            \n",
    "    def train_test_split(self, X, y, test_size = 0.2):\n",
    "        self.X_train, self.X_test, self.y_train, self.y_test = train_test_split(X, y, test_size = test_size, random_state=42)\n",
    "        \n",
    "    def sse(self, y_hat, y):\n",
    "        return sum((y_hat - y) ** 2)/2\n",
    "    \n",
    "    def gradient(self):\n",
    "        return np.dot(self.X_train.T, (np.dot(self.X_train, self.W) - self.y_train))\n",
    "        \n",
    "        \n",
    "    def run_model(self, test_size, epochs=100, lr=0.00005, tolerance=0.0001, gd=False):\n",
    "        self.train_test_split(self.X, self.y, test_size)\n",
    "        \n",
    "        self.X_train = self.normalize(self.X_train)\n",
    "        self.X_test = self.normalize_test(self.X_test)\n",
    "        \n",
    "        if self.is_full_rank(self.X_train) and self.X_train.shape[0] < 10000 and not gd:\n",
    "       \n",
    "            self.W = np.dot(np.dot(np.linalg.inv(np.dot(self.X_train.T, self.X_train)), self.X_train.T), self.y_train)\n",
    "            \n",
    "            print(\"Model Trained! The closed form solution is: \", self.W, self.W.shape)\n",
    "        else:\n",
    "            \n",
    "            self.losses = [float('inf')]\n",
    "            self.W = np.random.rand(self.X_train.shape[1],1)\n",
    "            \n",
    "            for _ in tqdm(range(epochs)):\n",
    "                \n",
    "                self.W = self.W - lr*self.gradient()\n",
    "                \n",
    "                preds = np.dot(self.X_train, self.W)\n",
    "\n",
    "                curr_loss = float(self.sse(preds, self.y_train))\n",
    "\n",
    "                if abs(curr_loss - self.losses[-1]) < tolerance:\n",
    "                    break\n",
    "                \n",
    "                self.losses.append(curr_loss)\n",
    "            \n",
    "            \n",
    "            print(\"Model Trained using Gradient Descent! The solution is: \", self.W, self.W.shape)\n",
    "            \n",
    "            print(\"Training Loss:\", self.losses[-1])\n",
    "            \n",
    "            \n",
    "        print(\"Evaluating model performance on test data.....\")\n",
    "\n",
    "        preds = np.dot(self.X_test, self.W)\n",
    "        test_loss = self.sse(preds, self.y_test)\n",
    "\n",
    "        print(\"The Model Performance on Test Set is: \", float(test_loss))\n",
    "            \n",
    "        \n",
    "    "
   ]
  },
  {
   "cell_type": "code",
   "execution_count": 531,
   "id": "e40a8654",
   "metadata": {},
   "outputs": [],
   "source": [
    "X, y = df[:, :-1], df[:, -1]"
   ]
  },
  {
   "cell_type": "code",
   "execution_count": 532,
   "id": "7de4e523",
   "metadata": {},
   "outputs": [],
   "source": [
    "lr1 = LinearRegression(X, y)"
   ]
  },
  {
   "cell_type": "code",
   "execution_count": 533,
   "id": "b1bcd013",
   "metadata": {},
   "outputs": [
    {
     "name": "stdout",
     "output_type": "stream",
     "text": [
      "Model Trained! The closed form solution is:  [[35.85786408]\n",
      " [12.78841262]\n",
      " [ 9.43445595]\n",
      " [ 5.25457769]\n",
      " [-2.88259683]\n",
      " [ 1.85212598]\n",
      " [ 1.40519554]\n",
      " [ 1.9505291 ]\n",
      " [ 7.03743401]] (9, 1)\n",
      "Evaluating model performance on test data.....\n",
      "The Model Performance on Test Set is:  9885.006829383996\n"
     ]
    }
   ],
   "source": [
    "lr1.run_model(test_size=0.2)"
   ]
  },
  {
   "cell_type": "code",
   "execution_count": 534,
   "id": "74dde6b8",
   "metadata": {},
   "outputs": [
    {
     "name": "stderr",
     "output_type": "stream",
     "text": [
      "100%|██████████| 100/100 [00:00<00:00, 2136.21it/s]"
     ]
    },
    {
     "name": "stdout",
     "output_type": "stream",
     "text": [
      "Model Trained using Gradient Descent! The solution is:  [[35.32765419]\n",
      " [ 7.69047758]\n",
      " [ 4.38667827]\n",
      " [ 0.38546839]\n",
      " [-4.67312   ]\n",
      " [ 3.53295194]\n",
      " [-1.20904827]\n",
      " [-1.9811256 ]\n",
      " [ 6.51403632]] (9, 1)\n",
      "Training Loss: 47753.11429789942\n",
      "Evaluating model performance on test data.....\n",
      "The Model Performance on Test Set is:  10465.844759945629\n"
     ]
    },
    {
     "name": "stderr",
     "output_type": "stream",
     "text": [
      "\n"
     ]
    }
   ],
   "source": [
    "lr2 = LinearRegression(X, y)\n",
    "lr2.run_model(test_size=0.2, gd=True)"
   ]
  },
  {
   "cell_type": "code",
   "execution_count": 535,
   "id": "75016cac",
   "metadata": {},
   "outputs": [
    {
     "data": {
      "text/plain": [
       "101"
      ]
     },
     "execution_count": 535,
     "metadata": {},
     "output_type": "execute_result"
    }
   ],
   "source": [
    "len(lr2.losses)"
   ]
  },
  {
   "cell_type": "code",
   "execution_count": 536,
   "id": "fa88d433",
   "metadata": {},
   "outputs": [
    {
     "data": {
      "text/plain": [
       "[<matplotlib.lines.Line2D at 0x7fb2a152e3a0>]"
      ]
     },
     "execution_count": 536,
     "metadata": {},
     "output_type": "execute_result"
    },
    {
     "data": {
      "image/png": "[encoded data removed]",
      "text/plain": [
       "<Figure size 432x288 with 1 Axes>"
      ]
     },
     "metadata": {
      "needs_background": "light"
     },
     "output_type": "display_data"
    }
   ],
   "source": [
    "plt.plot(lr2.losses)"
   ]
  },
  {
   "cell_type": "code",
   "execution_count": 537,
   "id": "98070a3b",
   "metadata": {},
   "outputs": [],
   "source": [
    "from sklearn.linear_model import LinearRegression as SKLR\n",
    "\n",
    "reg = SKLR().fit(X, y)"
   ]
  },
  {
   "cell_type": "code",
   "execution_count": 538,
   "id": "57f885d0",
   "metadata": {},
   "outputs": [
    {
     "data": {
      "text/plain": [
       "array([ 0.11980433,  0.10386581,  0.08793432, -0.14991842,  0.2922246 ,\n",
       "        0.01808621,  0.02019035,  0.11422207])"
      ]
     },
     "execution_count": 538,
     "metadata": {},
     "output_type": "execute_result"
    }
   ],
   "source": [
    "reg.coef_"
   ]
  },
  {
   "cell_type": "code",
   "execution_count": null,
   "id": "131cab89",
   "metadata": {},
   "outputs": [],
   "source": []
  }
 ],
 "metadata": {
  "kernelspec": {
   "display_name": "Python 3",
   "language": "python",
   "name": "python3"
  },
  "language_info": {
   "codemirror_mode": {
    "name": "ipython",
    "version": 3
   },
   "file_extension": ".py",
   "mimetype": "text/x-python",
   "name": "python",
   "nbconvert_exporter": "python",
   "pygments_lexer": "ipython3",
   "version": "3.8.8"
  }
 },
 "nbformat": 4,
 "nbformat_minor": 5
}
