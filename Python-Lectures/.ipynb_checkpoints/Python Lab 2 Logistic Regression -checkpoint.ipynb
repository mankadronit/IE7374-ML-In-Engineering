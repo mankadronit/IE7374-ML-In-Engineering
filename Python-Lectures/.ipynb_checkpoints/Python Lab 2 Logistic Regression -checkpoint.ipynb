{
 "cells": [
  {
   "cell_type": "code",
   "execution_count": 21,
   "id": "d3a02669",
   "metadata": {},
   "outputs": [],
   "source": [
    "import math\n",
    "import numpy as np\n",
    "import pandas as pd\n",
    "import matplotlib.pyplot as plt\n",
    "import tqdm as tqdm"
   ]
  },
  {
   "cell_type": "code",
   "execution_count": 22,
   "id": "0d4740ff",
   "metadata": {},
   "outputs": [],
   "source": [
    "# def plot(self):\n",
    "#     plt.figure(figsize=(12, 8))\n",
    "#     ax = plt.axes(projection='3d')\n",
    "    \n",
    "#     ax.scatter3D(self.X_train[:, 0, self.X_train[:, 1]],\n",
    "#                  self.sigmoid(self.X_train.dot(self.w))\n",
    "#                 )"
   ]
  },
  {
   "cell_type": "code",
   "execution_count": 43,
   "id": "76c06ba4",
   "metadata": {},
   "outputs": [],
   "source": [
    "class LogisticRegression:\n",
    "    \n",
    "    \n",
    "    def __init__(self, learningRate, tolerance, maxIteration = 1000):\n",
    "        self.learningRate = learningRate\n",
    "        self.tolerance = tolerance\n",
    "        self.maxIteration = maxIteration\n",
    "        \n",
    "        \n",
    "    def datasetReader(self):    \n",
    "        train_df = pd.read_excel('Lab3_data.xls', sheet_name = '2004--2005 Data')\n",
    "        test_df = pd.read_excel('Lab3_data.xls', sheet_name = '2004--2007 Data')\n",
    "        \n",
    "        train_df, test_df = np.array(train_df, dtype = np.float64), np.array(test_df, dtype = np.float64)\n",
    "        \n",
    "        # Function to remove bad points\n",
    "        \n",
    "        \n",
    "        X_train, y_train = train_df[:, 1:], train_df[:, 0]\n",
    "        X_test, y_test = test_df[:, 1:], test_df[:, 0]\n",
    "        \n",
    "        return X_train, X_test, y_train, y_test\n",
    "    \n",
    "    \n",
    "    def addX0(self, X):\n",
    "        return np.column_stack([np.ones(X.shape[0], 1), X])\n",
    "    \n",
    "    \n",
    "    def sigmoid(self, z):\n",
    "        return 1 / (1 + np.exp(-z))\n",
    "    \n",
    "    \n",
    "    def costFunction(self, X, y):\n",
    "        pred_ = np.log(np.ones(X.shape[0]) + np.exp(X.dot(self.w))) - X.dot(self.w).dot(y) # Neg Log Likelihood\n",
    "        cost = pred_.sum()\n",
    "        \n",
    "        return cost\n",
    "    \n",
    "    \n",
    "    def gradient(self, X, y):\n",
    "        sig = self.sigmoid(X.dot(self.w))\n",
    "        grad = (sig - y).dot(X)\n",
    "        \n",
    "        return grad\n",
    "        \n",
    "        \n",
    "    def gradientDescent(self, X, y):\n",
    "        cost_sequences = []\n",
    "        \n",
    "        last_cost = float('inf')\n",
    "        \n",
    "        for i in tqdm.tqdm(range(self.maxIteration)):\n",
    "        \n",
    "            self.w = self.w - self.learningRate * self.gradient(X, y)\n",
    "            \n",
    "            cur_cost = self.costFunction(X, y)\n",
    "            diff = last_cost - cur_cost\n",
    "            \n",
    "            last_cost = cur_cost\n",
    "            \n",
    "            cost_sequences.append(cur_cost)\n",
    "            \n",
    "            if diff < self.tolerance:\n",
    "                print(\"The model stopped - Converged\")\n",
    "                break\n",
    "                \n",
    "            \n",
    "        #self.plot_cost(cost_sequences)\n",
    "        self.plotCost(cost_sequences)\n",
    "        \n",
    "        \n",
    "        return \n",
    "    \n",
    "    \n",
    "    def predict(self, X):\n",
    "        \n",
    "        sig = self.sigmoid(X.dot(self.w))\n",
    "        return np.around(sig)\n",
    "    \n",
    "    \n",
    "    def evaluate(self, y, y_hat):\n",
    "        y = (y == 1)\n",
    "        y_hat = (y_hat == 1)\n",
    "        \n",
    "        accuracy = (y == y_hat).sum() / y.size\n",
    "        precision = (y & y_hat).sum() / y_hat.sum()\n",
    "        recall = (y & y_hat).sum() / y.sum()\n",
    "        \n",
    "        return accuracy, precision, recall\n",
    "    \n",
    "    \n",
    "    def runModel(self):\n",
    "        \n",
    "        self.X_train, self.X_test, self.y_train, self.y_test = self.datasetReader()\n",
    "        \n",
    "        print(\"Solving using gradient descent\")\n",
    "        self.w = np.ones(self.X_train.shape[1], dtype = np.float64) * 0\n",
    "        self.gradientDescent(self.X_train, self.y_train)\n",
    "        \n",
    "        print(self.w)\n",
    "        \n",
    "        y_hat_train = self.predict(self.X_train)\n",
    "        \n",
    "        accuracy, precision, recall = self.evaluate(self.y_train, y_hat_train)\n",
    "        \n",
    "        print(\"Evaluation for training data: \\n\")\n",
    "        print(\"Accuracy: \", accuracy)\n",
    "        print(\"Precision: \", precision)\n",
    "        print(\"Recall: \", recall)\n",
    "        \n",
    "        \n",
    "        \n",
    "    def plotCost(self, error_sequences):\n",
    "        s = np.array(error_sequences)\n",
    "        t = np.arange(s.size)\n",
    "        \n",
    "        fix, ax = plt.subplots()\n",
    "        ax.plot(t, s)\n",
    "        \n",
    "        ax.set(xlabel = 'Number of iterations',\n",
    "               ylabel = 'Error Value'\n",
    "              )\n",
    "        \n",
    "        "
   ]
  },
  {
   "cell_type": "code",
   "execution_count": 44,
   "id": "c3f4e495",
   "metadata": {},
   "outputs": [],
   "source": [
    "lr = LogisticRegression(tolerance=0.0, learningRate = 0.1e-5, maxIteration=100000)"
   ]
  },
  {
   "cell_type": "code",
   "execution_count": 45,
   "id": "07f64fe3",
   "metadata": {},
   "outputs": [
    {
     "name": "stderr",
     "output_type": "stream",
     "text": [
      "  5%|▍         | 4534/100000 [00:00<00:02, 45333.67it/s]"
     ]
    },
    {
     "name": "stdout",
     "output_type": "stream",
     "text": [
      "Solving using gradient descent\n"
     ]
    },
    {
     "name": "stderr",
     "output_type": "stream",
     "text": [
      "100%|██████████| 100000/100000 [00:01<00:00, 60511.15it/s]\n"
     ]
    },
    {
     "name": "stdout",
     "output_type": "stream",
     "text": [
      "[-0.53977559  0.26130952]\n",
      "Evaluation for training data: \n",
      "\n",
      "Accuracy:  0.9565217391304348\n",
      "Precision:  0.9722222222222222\n",
      "Recall:  0.9722222222222222\n"
     ]
    },
    {
     "data": {
      "image/png": "[encoded data removed]",
      "text/plain": [
       "<Figure size 432x288 with 1 Axes>"
      ]
     },
     "metadata": {
      "needs_background": "light"
     },
     "output_type": "display_data"
    }
   ],
   "source": [
    "lr.runModel()"
   ]
  },
  {
   "cell_type": "code",
   "execution_count": null,
   "id": "4ea055f4",
   "metadata": {},
   "outputs": [],
   "source": []
  }
 ],
 "metadata": {
  "kernelspec": {
   "display_name": "Python 3",
   "language": "python",
   "name": "python3"
  },
  "language_info": {
   "codemirror_mode": {
    "name": "ipython",
    "version": 3
   },
   "file_extension": ".py",
   "mimetype": "text/x-python",
   "name": "python",
   "nbconvert_exporter": "python",
   "pygments_lexer": "ipython3",
   "version": "3.8.8"
  }
 },
 "nbformat": 4,
 "nbformat_minor": 5
}
